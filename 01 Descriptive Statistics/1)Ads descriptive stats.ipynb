{
 "cells": [
  {
   "cell_type": "code",
   "execution_count": 42,
   "id": "5dd92a9a",
   "metadata": {},
   "outputs": [],
   "source": [
    "#import libs\n",
    "import statistics\n",
    "import pandas as pd\n",
    "import numpy as np\n",
    "from scipy.stats import kurtosis\n",
    "from scipy.stats import pearsonr"
   ]
  },
  {
   "cell_type": "code",
   "execution_count": 18,
   "id": "d984ca1f",
   "metadata": {},
   "outputs": [
    {
     "name": "stdout",
     "output_type": "stream",
     "text": [
      "   PassengerId  Survived  Pclass  \\\n",
      "0            1         0       3   \n",
      "1            2         1       1   \n",
      "2            3         1       3   \n",
      "3            4         1       1   \n",
      "4            5         0       3   \n",
      "\n",
      "                                                Name     Sex   Age  SibSp  \\\n",
      "0                            Braund, Mr. Owen Harris    male  22.0      1   \n",
      "1  Cumings, Mrs. John Bradley (Florence Briggs Th...  female  38.0      1   \n",
      "2                             Heikkinen, Miss. Laina  female  26.0      0   \n",
      "3       Futrelle, Mrs. Jacques Heath (Lily May Peel)  female  35.0      1   \n",
      "4                           Allen, Mr. William Henry    male  35.0      0   \n",
      "\n",
      "   Parch            Ticket     Fare Cabin Embarked  \n",
      "0      0         A/5 21171   7.2500   NaN        S  \n",
      "1      0          PC 17599  71.2833   C85        C  \n",
      "2      0  STON/O2. 3101282   7.9250   NaN        S  \n",
      "3      0            113803  53.1000  C123        S  \n",
      "4      0            373450   8.0500   NaN        S  \n"
     ]
    }
   ],
   "source": [
    "titanic_df=pd.read_csv(\"titanic.csv\")\n",
    "print(titanic_df.head())"
   ]
  },
  {
   "cell_type": "code",
   "execution_count": 36,
   "id": "6aacca50",
   "metadata": {},
   "outputs": [
    {
     "name": "stdout",
     "output_type": "stream",
     "text": [
      "29.69911764705882\n",
      "28.0\n",
      "0    24.0\n",
      "dtype: float64\n"
     ]
    }
   ],
   "source": [
    "#Central tendency\n",
    "print(titanic_df['Age'].mean())\n",
    "print(titanic_df['Age'].median())\n",
    "print(titanic_df['Age'].mode())"
   ]
  },
  {
   "cell_type": "code",
   "execution_count": 44,
   "id": "5a0eaa49",
   "metadata": {},
   "outputs": [
    {
     "name": "stdout",
     "output_type": "stream",
     "text": [
      "Maxval: 80.0\n",
      "Minval: 0.42\n",
      "Range: 79.58\n",
      "Standard deviation: 14.516321150817316\n",
      "Variance: 210.72357975366614\n",
      "Kurtosis: 36.20428925264474\n",
      "skewness:\n",
      "Pearson:\n"
     ]
    }
   ],
   "source": [
    "#Variability\n",
    "print( \"Maxval:\",np.max(titanic_df['Age']) )\n",
    "print( \"Minval:\",np.min(titanic_df['Age']) )\n",
    "print( \"Range:\",np.max(titanic_df['Age'])-np.min(titanic_df['Age']) )\n",
    "print( \"Standard deviation:\",np.std(titanic_df['Age']) )\n",
    "print( \"Variance:\",np.var(titanic_df['Age']) )\n",
    "print( \"Kurtosis:\",scipy.stats.kurtosis(titanic_df['Fare'],fisher=False) )\n",
    "print( \"skewness:\",)\n",
    "print( \"Pearson:\", )\n",
    "\n"
   ]
  },
  {
   "cell_type": "code",
   "execution_count": null,
   "id": "a68948dd",
   "metadata": {},
   "outputs": [],
   "source": []
  }
 ],
 "metadata": {
  "kernelspec": {
   "display_name": "Python 3 (ipykernel)",
   "language": "python",
   "name": "python3"
  },
  "language_info": {
   "codemirror_mode": {
    "name": "ipython",
    "version": 3
   },
   "file_extension": ".py",
   "mimetype": "text/x-python",
   "name": "python",
   "nbconvert_exporter": "python",
   "pygments_lexer": "ipython3",
   "version": "3.9.7"
  }
 },
 "nbformat": 4,
 "nbformat_minor": 5
}
