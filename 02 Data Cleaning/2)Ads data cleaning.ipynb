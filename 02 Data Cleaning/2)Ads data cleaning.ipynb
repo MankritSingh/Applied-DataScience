{
 "cells": [
  {
   "cell_type": "code",
   "execution_count": null,
   "id": "8724c37b",
   "metadata": {},
   "outputs": [],
   "source": [
    "import pandas as pd\n",
    "import numpy as np"
   ]
  },
  {
   "cell_type": "code",
   "execution_count": null,
   "id": "85462432",
   "metadata": {},
   "outputs": [],
   "source": [
    "df=pd.read_csv('titanic.csv')\n",
    "df.shape"
   ]
  },
  {
   "cell_type": "markdown",
   "id": "d5f3ac37",
   "metadata": {},
   "source": [
    "Tasks\n",
    "1)Check null\n",
    "2)Check null with diff vals too\n",
    "3)Drop null value\n",
    "4)Fill na vals\n",
    "5)fill na vals with diff methods"
   ]
  },
  {
   "cell_type": "code",
   "execution_count": null,
   "id": "e1f479fc",
   "metadata": {},
   "outputs": [],
   "source": [
    "#1\n",
    "df.isnull().sum()"
   ]
  },
  {
   "cell_type": "code",
   "execution_count": null,
   "id": "1eee3727",
   "metadata": {},
   "outputs": [],
   "source": [
    "#2\n",
    "missing_value=[\"N/a\",np.nan,\"Unavailable\"]\n",
    "df=pd.read_csv('titanic.csv',na_values=missing_value)\n",
    "df.isnull().sum()"
   ]
  },
  {
   "cell_type": "code",
   "execution_count": null,
   "id": "549e536d",
   "metadata": {},
   "outputs": [],
   "source": [
    "#3\n",
    "# df_copy=df\n",
    "# df_copy.dropna()\n",
    "# print(df_copy.shape)\n",
    "# print(df.shape)\n",
    "dfnew=df.dropna()\n",
    "\n",
    "print(dfnew.shape)"
   ]
  },
  {
   "cell_type": "code",
   "execution_count": null,
   "id": "609cb736",
   "metadata": {},
   "outputs": [],
   "source": [
    "df.fillna(0)\n",
    "df.fillna(method=\"ffill\")#foward fill\n",
    "df.fillna(method=\"bfill\")#backward fill\n",
    "df.interpolate()#various methods,this will use before and after val to interpolate the val"
   ]
  },
  {
   "cell_type": "code",
   "execution_count": null,
   "id": "8c668b44",
   "metadata": {},
   "outputs": [],
   "source": []
  },
  {
   "cell_type": "code",
   "execution_count": null,
   "id": "f7ccd580",
   "metadata": {},
   "outputs": [],
   "source": []
  }
 ],
 "metadata": {
  "kernelspec": {
   "display_name": "Python 3 (ipykernel)",
   "language": "python",
   "name": "python3"
  },
  "language_info": {
   "codemirror_mode": {
    "name": "ipython",
    "version": 3
   },
   "file_extension": ".py",
   "mimetype": "text/x-python",
   "name": "python",
   "nbconvert_exporter": "python",
   "pygments_lexer": "ipython3",
   "version": "3.9.7"
  }
 },
 "nbformat": 4,
 "nbformat_minor": 5
}
